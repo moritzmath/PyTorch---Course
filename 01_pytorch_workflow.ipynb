{
 "cells": [
  {
   "cell_type": "markdown",
   "id": "5f81f363",
   "metadata": {},
   "source": [
    "01. PyTorch Workflow\n",
    "\n",
    "Let's explore an example PyTorch end-to-end workflow. First, we import the necessary modules."
   ]
  },
  {
   "cell_type": "code",
   "execution_count": 1,
   "id": "d8c2bfed",
   "metadata": {},
   "outputs": [],
   "source": [
    "import torch\n",
    "from torch import nn        #nn contains all of PyTorch's building blocks for neural networks\n",
    "import matplotlib.pyplot as plt\n",
    "\n",
    "# Checkout PyTorch version\n",
    "torch.__version__\n",
    "RANDOM_SEED = 42"
   ]
  },
  {
   "cell_type": "code",
   "execution_count": 2,
   "id": "e7151903",
   "metadata": {},
   "outputs": [],
   "source": [
    "what_were_covering={1: \"data (prepare and load)\",\n",
    "                    2: \"build model\",\n",
    "                    3: \"fitting the model to data (training)\",\n",
    "                    4: \"making predictions and evaluating (inference)\",\n",
    "                    5: \"Safe and load a model\",\n",
    "                    6: \"Putting it all together\"}"
   ]
  },
  {
   "cell_type": "markdown",
   "id": "2842a42b",
   "metadata": {},
   "source": [
    "## 1. Data: Preparing and loading\n",
    "\n",
    "Data can be almost anything in machine learning. \n",
    "\n",
    "* Excel spreadsheet\n",
    "* Images of any kind\n",
    "* Videos (YouTube has lots of data...)\n",
    "* Audio like sonds or podcasts\n",
    "* DNA\n",
    "* Text\n",
    "\n",
    "Machine learning is a game of two parts:\n",
    "1. Get data into a numerical representation\n",
    "2. Build a model to learn patterns in that numerical representation\n",
    "\n",
    "To showcase this, let's create some *known* data using the linear regression formula.\n",
    "\n",
    "We'll use a lienar regression formula to make a straight line with known **parameters**."
   ]
  },
  {
   "cell_type": "code",
   "execution_count": 3,
   "id": "2b39086c",
   "metadata": {},
   "outputs": [],
   "source": [
    "weight = 0.7\n",
    "bias = 0.3\n",
    "\n",
    "start = 0\n",
    "end = 1\n",
    "step = 0.02\n",
    "\n",
    "X = torch.arange(start=start, end=end, step=step).unsqueeze(dim=1)  # We will see later on why we need this\n",
    "y = weight * X + bias"
   ]
  },
  {
   "cell_type": "code",
   "execution_count": 4,
   "id": "ed51fc67",
   "metadata": {},
   "outputs": [
    {
     "data": {
      "text/plain": [
       "(tensor([[0.0000],\n",
       "         [0.0200],\n",
       "         [0.0400],\n",
       "         [0.0600],\n",
       "         [0.0800],\n",
       "         [0.1000],\n",
       "         [0.1200],\n",
       "         [0.1400],\n",
       "         [0.1600],\n",
       "         [0.1800]]),\n",
       " tensor([[0.3000],\n",
       "         [0.3140],\n",
       "         [0.3280],\n",
       "         [0.3420],\n",
       "         [0.3560],\n",
       "         [0.3700],\n",
       "         [0.3840],\n",
       "         [0.3980],\n",
       "         [0.4120],\n",
       "         [0.4260]]))"
      ]
     },
     "execution_count": 4,
     "metadata": {},
     "output_type": "execute_result"
    }
   ],
   "source": [
    "X[:10], y[:10]"
   ]
  },
  {
   "cell_type": "markdown",
   "id": "3c2c439f",
   "metadata": {},
   "source": [
    "### Splitting data into training and test sets \n",
    "\n",
    "Let's create a training and test set with our data."
   ]
  },
  {
   "cell_type": "code",
   "execution_count": 5,
   "id": "b11f2084",
   "metadata": {},
   "outputs": [
    {
     "data": {
      "text/plain": [
       "(40, 10)"
      ]
     },
     "execution_count": 5,
     "metadata": {},
     "output_type": "execute_result"
    }
   ],
   "source": [
    "# Create a train/test split\n",
    "train_split = int(0.8*len(X))\n",
    "X_train, y_train = X[:train_split], y[:train_split]\n",
    "X_test, y_test = X[train_split:], y[train_split:]\n",
    "len(X_train), len(X_test)"
   ]
  },
  {
   "cell_type": "code",
   "execution_count": 7,
   "id": "76417c0d",
   "metadata": {},
   "outputs": [
    {
     "data": {
      "image/png": "[encoded data removed]",
      "text/plain": [
       "<Figure size 640x480 with 1 Axes>"
      ]
     },
     "metadata": {},
     "output_type": "display_data"
    }
   ],
   "source": [
    "# Visualize data\n",
    "def plot_data(train_data, train_labels, test_data, test_labels, predictions=None):\n",
    "    #plt.figure(figsize=(10,7))\n",
    "    plt.scatter(train_data, train_labels, c=\"b\",s=6, label=\"Training data\")\n",
    "    \n",
    "    plt.scatter(test_data, test_labels, c=\"g\",s=6, label=\"Testing data\")\n",
    "    \n",
    "    if predictions is not None:\n",
    "        plt.scatter(test_data, predictions, c=\"r\", s=6, label=\"Predictions\")\n",
    "    plt.legend(prop={\"size\": 14})\n",
    "\n",
    "plot_data(X_train, y_train, X_test, y_test)"
   ]
  },
  {
   "cell_type": "markdown",
   "id": "7a14bfed",
   "metadata": {},
   "source": [
    "## 2. Build our model\n",
    "\n",
    "Our first PyTorch model!\n",
    "\n",
    "What our model does:\n",
    "* Start with random values for weight and bias\n",
    "* Look at training data and adjust the random values to better represent the ideal values we used to create the data\n",
    "\n",
    "\n",
    "How does it do so?\n",
    "\n",
    "Through two main algorithms:\n",
    "1. Gradient descent\n",
    "2. Backpropagation"
   ]
  },
  {
   "cell_type": "code",
   "execution_count": 8,
   "id": "1e6dd3df",
   "metadata": {},
   "outputs": [],
   "source": [
    "# Create a linear regression model class\n",
    "\n",
    "class LinearRegressionModel(nn.Module):     # almost everything in PyTorch inherits from nn.Module\n",
    "    def __init__(self):\n",
    "        super().__init__()\n",
    "        self.weight = nn.Parameter(torch.randn(1, \n",
    "                                               requires_grad=True,      \n",
    "                                               dtype=torch.float\n",
    "                                               ))\n",
    "        self.bias = nn.Parameter(torch.randn(1, \n",
    "                                            requires_grad=True,      \n",
    "                                            dtype=torch.float\n",
    "                                           ))\n",
    "\n",
    "    # Forward method to define the computation in the model\n",
    "    def forward(self, x: torch.Tensor) -> torch.Tensor:\n",
    "        return self.weight * x + self.bias"
   ]
  },
  {
   "cell_type": "markdown",
   "id": "d3afebab",
   "metadata": {},
   "source": [
    "### PyTorch model building essentials\n",
    "\n",
    "* `torch.nn` - contains all of the buidling blocks for neural networks\n",
    "* `torch.nn.Parameter` - what parameters should our model try and learn, often a PyTorch layer from torch.nn will set these for us\n",
    "* `torch.nn.Module` - base class for all neural network modules, if you subclass it, you should overwrite the forward() function\n",
    "* `torch.optim` - where the optimizers in PyTorch live, they will help with gradient descent\n",
    "* `def forward()` - All nn.Module subclasses require you to overwrite forward(), this method defines what happens in the forward computation\n",
    "\n"
   ]
  },
  {
   "cell_type": "markdown",
   "id": "22cf1fae",
   "metadata": {},
   "source": [
    "### Checking the contents of our PyTorch model\n",
    "\n",
    "Now that we've created a model, let's see what's inside...\n",
    "\n",
    "So we can check out model parameters or what's inside our model using `.parameters()`"
   ]
  },
  {
   "cell_type": "code",
   "execution_count": 47,
   "id": "f091897a",
   "metadata": {},
   "outputs": [
    {
     "data": {
      "text/plain": [
       "[Parameter containing:\n",
       " tensor([0.3367], requires_grad=True),\n",
       " Parameter containing:\n",
       " tensor([0.1288], requires_grad=True)]"
      ]
     },
     "execution_count": 47,
     "metadata": {},
     "output_type": "execute_result"
    }
   ],
   "source": [
    "# Create a random seed\n",
    "torch.manual_seed(RANDOM_SEED)\n",
    "\n",
    "# Create an instance of our model\n",
    "model0 = LinearRegressionModel()\n",
    "list(model0.parameters())"
   ]
  },
  {
   "cell_type": "code",
   "execution_count": 48,
   "id": "87b4c471",
   "metadata": {},
   "outputs": [
    {
     "data": {
      "text/plain": [
       "OrderedDict([('weight', tensor([0.3367])), ('bias', tensor([0.1288]))])"
      ]
     },
     "execution_count": 48,
     "metadata": {},
     "output_type": "execute_result"
    }
   ],
   "source": [
    "model0.state_dict()"
   ]
  },
  {
   "cell_type": "markdown",
   "id": "5d559a66",
   "metadata": {},
   "source": [
    "### Making predictions using `torch.inference_mode()`\n",
    "\n",
    "To check our model's predicitive power, let's see how well it predicts `y_test` based on `X-test`.\n",
    "\n",
    "When we pass data through our model, it's going to run it through the `forward()` method."
   ]
  },
  {
   "cell_type": "code",
   "execution_count": 49,
   "id": "2a1c2656",
   "metadata": {},
   "outputs": [
    {
     "data": {
      "image/png": "[encoded data removed]",
      "text/plain": [
       "<Figure size 640x480 with 1 Axes>"
      ]
     },
     "metadata": {},
     "output_type": "display_data"
    }
   ],
   "source": [
    "# Make predictions with model - Why inference_mode? Turns off gradient tracking and therefore way faster (very important on large datasets with large models!). \n",
    "\n",
    "with torch.inference_mode():\n",
    "    y_preds = model0(X_test)\n",
    "\n",
    "# You cna also do something similar with `torch.no_grad()`, however, `torch.inference_mode()` is preferred\n",
    "#  with torch.no_grad():\n",
    "#    y_preds = model0(X_test)\n",
    "\n",
    "plot_data(X_train, y_train, X_test, y_test, y_preds)"
   ]
  },
  {
   "cell_type": "markdown",
   "id": "04a41fcc",
   "metadata": {},
   "source": [
    "Randomly initialized network does not perform well."
   ]
  },
  {
   "cell_type": "markdown",
   "id": "cf99a8ec",
   "metadata": {},
   "source": [
    "## 3. Train model\n",
    "\n",
    "The whole idea of training is for a model to move from some unknown, possibly random, parameters to some known parameters. Or in other words, from a poor representation of the data to a better representation of the data.\n",
    "\n",
    "One way to measure how poor or how wrong your models predictions are is to use a loss function. Things we need to train:\n",
    "\n",
    "* **Loss function**: A function to measure how wrong our model's predictions are to the ideal outputs, lower is better.\n",
    "* **Optimizer**: Takes into account the loss of a model and adjusts the model's parameters. Inside the optimizer, we usually have to set two hyperparameters: `lr` (Learning rate), `params` (The parameters the model should optimize)\n",
    "\n",
    "And for PyTorch, we need:\n",
    "* A training loop\n",
    "* A testing loop"
   ]
  },
  {
   "cell_type": "code",
   "execution_count": 50,
   "id": "127da714",
   "metadata": {},
   "outputs": [],
   "source": [
    "# Setup a loss function\n",
    "\n",
    "loss_fn = nn.L1Loss()\n",
    "\n",
    "# Setup an optimizer\n",
    "optimizer = torch.optim.SGD(params=model0.parameters(),\n",
    "                            lr=0.01,)                            # lr = learning rate"
   ]
  },
  {
   "cell_type": "markdown",
   "id": "08f822f0",
   "metadata": {},
   "source": [
    "### Building a training loop (and a testing loop) in PyTorch\n",
    "\n",
    "A couple of things we need in a training loop:\n",
    "\n",
    "0. Loop through the data\n",
    "1. Forward pass (this involves data moving through our model's `forward()` function) to make predictions on data - also called forward propagation\n",
    "2. Calculate the loss (compare forward pass predictions to ground truth labels)\n",
    "3. Optimizer zero grad\n",
    "4. Loss backward - move backwards through the network to calculate the gradients of each of the parameters of our model with respect to the loss (**backpropagation**)\n",
    "5. Optimizer step - use the optimizer to adjust the parameters to try and improve the loss (**gradient descent**)"
   ]
  },
  {
   "cell_type": "code",
   "execution_count": 51,
   "id": "b512bbc6",
   "metadata": {},
   "outputs": [
    {
     "name": "stdout",
     "output_type": "stream",
     "text": [
      "Epoch: 0 | Loss: 0.31288135051727295 | Test loss: 0.48106518387794495\n",
      "Epoch: 10 | Loss: 0.1976713389158249 | Test loss: 0.3463551998138428\n",
      "Epoch: 20 | Loss: 0.08908725529909134 | Test loss: 0.2172965705394745\n",
      "Epoch: 30 | Loss: 0.053148530423641205 | Test loss: 0.14464019238948822\n",
      "Epoch: 40 | Loss: 0.04543796554207802 | Test loss: 0.11360953748226166\n",
      "Epoch: 50 | Loss: 0.04167863354086876 | Test loss: 0.09919948130846024\n",
      "Epoch: 60 | Loss: 0.03818932920694351 | Test loss: 0.08886633813381195\n",
      "Epoch: 70 | Loss: 0.03476089984178543 | Test loss: 0.0805937722325325\n",
      "Epoch: 80 | Loss: 0.03132382780313492 | Test loss: 0.07232122868299484\n",
      "Epoch: 90 | Loss: 0.027887403964996338 | Test loss: 0.06473556160926819\n",
      "Epoch: 100 | Loss: 0.024458955973386765 | Test loss: 0.056463055312633514\n",
      "Epoch: 110 | Loss: 0.021020209416747093 | Test loss: 0.04819049686193466\n",
      "Epoch: 120 | Loss: 0.01758546754717827 | Test loss: 0.04060482233762741\n",
      "Epoch: 130 | Loss: 0.014155390672385693 | Test loss: 0.03233228251338005\n",
      "Epoch: 140 | Loss: 0.010716589167714119 | Test loss: 0.024059753865003586\n",
      "Epoch: 150 | Loss: 0.0072835348546504974 | Test loss: 0.016474086791276932\n",
      "Epoch: 160 | Loss: 0.003851778106763959 | Test loss: 0.008201557211577892\n",
      "Epoch: 170 | Loss: 0.00893248151987791 | Test loss: 0.005023092031478882\n",
      "Epoch: 180 | Loss: 0.00893248151987791 | Test loss: 0.005023092031478882\n",
      "Epoch: 190 | Loss: 0.00893248151987791 | Test loss: 0.005023092031478882\n"
     ]
    }
   ],
   "source": [
    "# An epoch (hyperparameter) is one loop through the data\n",
    "epochs  = 200\n",
    "\n",
    "# Tracking experiments\n",
    "epoch_count = []\n",
    "loss_values = []\n",
    "test_loss_values = []\n",
    "\n",
    "# Step 0: Loop through the data\n",
    "for epoch in range(epochs):\n",
    "    model0.train()              # train mode in PyTorch sets all parameters that require gradients to require gradients\n",
    "\n",
    "    # Step 1: Forward pass\n",
    "    y_pred = model0(X_train)\n",
    "\n",
    "    # Step 2: Calculate the loss\n",
    "    loss = loss_fn(y_pred, y_train)\n",
    "    # print(f\"Loss: {loss}\")\n",
    "\n",
    "    # Step 3: Optimizer zero grad\n",
    "    optimizer.zero_grad()   # Reset the gradients of all optimized torch.Tensors to zero\n",
    "\n",
    "    # Step 4: Perform backpropagation on the loss with respect to the model's parameters\n",
    "    loss.backward()         # Computes the gradients of the loss function wrt. all the parameters\n",
    "\n",
    "    # Step 5: Step the optimizer (perform gradient descent)\n",
    "    optimizer.step()        # by default how the optimizer changes will accumulate through the loop, so we have to zero them above in step 3 for the next iteration of the loop\n",
    "\n",
    "    # Testing\n",
    "    model0.eval()           # turns off different settings in the model not needed for evaluation/testing, for example, dropout layers are turned off.\n",
    "    with torch.inference_mode():        # turns off gradient tracking (torch.inference_mode is torch.no_grad on steroids)\n",
    "        # Forward pass\n",
    "        test_pred = model0(X_test)\n",
    "        # Calculate loss\n",
    "        test_loss = loss_fn(test_pred, y_test)\n",
    "        \n",
    "    if epoch % 10 == 0:\n",
    "        epoch_count.append(epoch)\n",
    "        loss_values.append(loss)\n",
    "        test_loss_values.append(test_loss)\n",
    "        print(f\"Epoch: {epoch} | Loss: {loss} | Test loss: {test_loss}\")"
   ]
  },
  {
   "cell_type": "code",
   "execution_count": 60,
   "id": "d6b9f9d8",
   "metadata": {},
   "outputs": [
    {
     "data": {
      "image/png": "[encoded data removed]",
      "text/plain": [
       "<Figure size 640x480 with 1 Axes>"
      ]
     },
     "metadata": {},
     "output_type": "display_data"
    }
   ],
   "source": [
    "plt.plot(epoch_count, test_loss_values, label=\"Test loss\")\n",
    "plt.plot(epoch_count, torch.tensor(loss_values).numpy(), label=\"Train loss\")\n",
    "plt.xlabel(\"Epoch\")\n",
    "plt.ylabel(\"Loss\")\n",
    "plt.title(\"Train and test loss curve\")\n",
    "plt.legend()\n",
    "plt.tight_layout()"
   ]
  },
  {
   "cell_type": "markdown",
   "id": "69c1fcf0",
   "metadata": {},
   "source": [
    "Very close to the actual values"
   ]
  },
  {
   "cell_type": "code",
   "execution_count": 52,
   "id": "8eab914f",
   "metadata": {},
   "outputs": [
    {
     "data": {
      "image/png": "[encoded data removed]",
      "text/plain": [
       "<Figure size 640x480 with 1 Axes>"
      ]
     },
     "metadata": {},
     "output_type": "display_data"
    }
   ],
   "source": [
    "with torch.inference_mode():\n",
    "    y_preds_new = model0(X_test)\n",
    "\n",
    "plot_data(X_train, y_train, X_test, y_test, y_preds_new)"
   ]
  },
  {
   "cell_type": "code",
   "execution_count": 61,
   "id": "12aac205",
   "metadata": {},
   "outputs": [
    {
     "data": {
      "text/plain": [
       "{1: 'data (prepare and load)',\n",
       " 2: 'build model',\n",
       " 3: 'fitting the model to data (training)',\n",
       " 4: 'making predictions and evaluating (inference)',\n",
       " 5: 'Safe and load a model',\n",
       " 6: 'Putting it all together'}"
      ]
     },
     "execution_count": 61,
     "metadata": {},
     "output_type": "execute_result"
    }
   ],
   "source": [
    "what_were_covering"
   ]
  },
  {
   "cell_type": "markdown",
   "id": "b2204acc",
   "metadata": {},
   "source": [
    "## 4. Saving a model in PyTorch\n",
    "\n",
    "There are three main methods you should know about for saving and laoding models in PyTorch.\n",
    "\n",
    "1. `torch.save()` - allows you to save a PyTorch obeject in Python's pickle format\n",
    "2. `torch.load()` - allows you to load a saved PyTorch object\n",
    "3. `torch.nn.Module.load_state_dict()` - allows you to load a model's saved state dictionary\n",
    "\n",
    "What is a `state_dict`? - In PyTorch, the learnable parameters of an torch.nn.Module model are contained in the model's parameters. A state_dict is simply a Python dictionary object that maps each layer to its parameter tensor."
   ]
  },
  {
   "cell_type": "code",
   "execution_count": null,
   "id": "557f5360",
   "metadata": {},
   "outputs": [
    {
     "data": {
      "text/plain": [
       "OrderedDict([('weight', tensor([0.6990])), ('bias', tensor([0.3093]))])"
      ]
     },
     "execution_count": 64,
     "metadata": {},
     "output_type": "execute_result"
    }
   ],
   "source": [
    "# Saving our PyTorch model\n",
    "\n",
    "from pathlib import Path\n",
    "\n",
    "MODEL_PATH = Path(\"models\")\n",
    "MODEL_PATH.mkdir(parents=True, exist_ok=True)"
   ]
  }
 ],
 "metadata": {
  "kernelspec": {
   "display_name": ".venv",
   "language": "python",
   "name": "python3"
  },
  "language_info": {
   "codemirror_mode": {
    "name": "ipython",
    "version": 3
   },
   "file_extension": ".py",
   "mimetype": "text/x-python",
   "name": "python",
   "nbconvert_exporter": "python",
   "pygments_lexer": "ipython3",
   "version": "3.9.6"
  }
 },
 "nbformat": 4,
 "nbformat_minor": 5
}
