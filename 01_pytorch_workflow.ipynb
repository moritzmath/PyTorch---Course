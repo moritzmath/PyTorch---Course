{
 "cells": [
  {
   "cell_type": "markdown",
   "id": "5f81f363",
   "metadata": {},
   "source": [
    "01. PyTorch Workflow\n",
    "\n",
    "Let's explore an example PyTorch end-to-end workflow. First, we import the necessary modules."
   ]
  },
  {
   "cell_type": "code",
   "execution_count": 1,
   "id": "d8c2bfed",
   "metadata": {},
   "outputs": [],
   "source": [
    "import torch\n",
    "from torch import nn        #nn contains all of PyTorch's building blocks for neural networks\n",
    "import matplotlib.pyplot as plt\n",
    "\n",
    "# Checkout PyTorch version\n",
    "torch.__version__\n",
    "RANDOM_SEED = 42"
   ]
  },
  {
   "cell_type": "code",
   "execution_count": 2,
   "id": "e7151903",
   "metadata": {},
   "outputs": [],
   "source": [
    "what_were_covering={1: \"data (prepare and load)\",\n",
    "                    2: \"build model\",\n",
    "                    3: \"fitting the model to data (training)\",\n",
    "                    4: \"making predictions and evaluating (inference)\",\n",
    "                    5: \"Safe and load a model\",\n",
    "                    6: \"Putting it all together\"}"
   ]
  },
  {
   "cell_type": "markdown",
   "id": "2842a42b",
   "metadata": {},
   "source": [
    "## 1. Data: Preparing and loading\n",
    "\n",
    "Data can be almost anything in machine learning. \n",
    "\n",
    "* Excel spreadsheet\n",
    "* Images of any kind\n",
    "* Videos (YouTube has lots of data...)\n",
    "* Audio like sonds or podcasts\n",
    "* DNA\n",
    "* Text\n",
    "\n",
    "Machine learning is a game of two parts:\n",
    "1. Get data into a numerical representation\n",
    "2. Build a model to learn patterns in that numerical representation\n",
    "\n",
    "To showcase this, let's create some *known* data using the linear regression formula.\n",
    "\n",
    "We'll use a lienar regression formula to make a straight line with known **parameters**."
   ]
  },
  {
   "cell_type": "code",
   "execution_count": 3,
   "id": "2b39086c",
   "metadata": {},
   "outputs": [],
   "source": [
    "weight = 0.7\n",
    "bias = 0.3\n",
    "\n",
    "start = 0\n",
    "end = 1\n",
    "step = 0.02\n",
    "\n",
    "X = torch.arange(start=start, end=end, step=step).unsqueeze(dim=1)  # We will see later on why we need this\n",
    "y = weight * X + bias"
   ]
  },
  {
   "cell_type": "code",
   "execution_count": 4,
   "id": "ed51fc67",
   "metadata": {},
   "outputs": [
    {
     "data": {
      "text/plain": [
       "(tensor([[0.0000],\n",
       "         [0.0200],\n",
       "         [0.0400],\n",
       "         [0.0600],\n",
       "         [0.0800],\n",
       "         [0.1000],\n",
       "         [0.1200],\n",
       "         [0.1400],\n",
       "         [0.1600],\n",
       "         [0.1800]]),\n",
       " tensor([[0.3000],\n",
       "         [0.3140],\n",
       "         [0.3280],\n",
       "         [0.3420],\n",
       "         [0.3560],\n",
       "         [0.3700],\n",
       "         [0.3840],\n",
       "         [0.3980],\n",
       "         [0.4120],\n",
       "         [0.4260]]))"
      ]
     },
     "execution_count": 4,
     "metadata": {},
     "output_type": "execute_result"
    }
   ],
   "source": [
    "X[:10], y[:10]"
   ]
  },
  {
   "cell_type": "markdown",
   "id": "3c2c439f",
   "metadata": {},
   "source": [
    "### Splitting data into training and test sets \n",
    "\n",
    "Let's create a training and test set with our data."
   ]
  },
  {
   "cell_type": "code",
   "execution_count": 5,
   "id": "b11f2084",
   "metadata": {},
   "outputs": [
    {
     "data": {
      "text/plain": [
       "(40, 10)"
      ]
     },
     "execution_count": 5,
     "metadata": {},
     "output_type": "execute_result"
    }
   ],
   "source": [
    "# Create a train/test split\n",
    "train_split = int(0.8*len(X))\n",
    "X_train, y_train = X[:train_split], y[:train_split]\n",
    "X_test, y_test = X[train_split:], y[train_split:]\n",
    "len(X_train), len(X_test)"
   ]
  },
  {
   "cell_type": "code",
   "execution_count": 7,
   "id": "76417c0d",
   "metadata": {},
   "outputs": [
    {
     "data": {
      "image/png": "[encoded data removed]",
      "text/plain": [
       "<Figure size 640x480 with 1 Axes>"
      ]
     },
     "metadata": {},
     "output_type": "display_data"
    }
   ],
   "source": [
    "# Visualize data\n",
    "def plot_data(train_data, train_labels, test_data, test_labels, predictions=None):\n",
    "    #plt.figure(figsize=(10,7))\n",
    "    plt.scatter(train_data, train_labels, c=\"b\",s=6, label=\"Training data\")\n",
    "    \n",
    "    plt.scatter(test_data, test_labels, c=\"g\",s=6, label=\"Testing data\")\n",
    "    \n",
    "    if predictions is not None:\n",
    "        plt.scatter(test_data, predictions, c=\"r\", s=6, label=\"Predictions\")\n",
    "    plt.legend(prop={\"size\": 14})\n",
    "\n",
    "plot_data(X_train, y_train, X_test, y_test)"
   ]
  },
  {
   "cell_type": "markdown",
   "id": "7a14bfed",
   "metadata": {},
   "source": [
    "## 2. Build our model\n",
    "\n",
    "Our first PyTorch model!\n",
    "\n",
    "What our model does:\n",
    "* Start with random values for weight and bias\n",
    "* Look at training data and adjust the random values to better represent the ideal values we used to create the data\n",
    "\n",
    "\n",
    "How does it do so?\n",
    "\n",
    "Through two main algorithms:\n",
    "1. Gradient descent\n",
    "2. Backpropagation"
   ]
  },
  {
   "cell_type": "code",
   "execution_count": 8,
   "id": "1e6dd3df",
   "metadata": {},
   "outputs": [],
   "source": [
    "# Create a linear regression model class\n",
    "\n",
    "class LinearRegressionModel(nn.Module):     # almost everything in PyTorch inherits from nn.Module\n",
    "    def __init__(self):\n",
    "        super().__init__()\n",
    "        self.weight = nn.Parameter(torch.randn(1, \n",
    "                                               requires_grad=True,      \n",
    "                                               dtype=torch.float\n",
    "                                               ))\n",
    "        self.bias = nn.Parameter(torch.randn(1, \n",
    "                                            requires_grad=True,      \n",
    "                                            dtype=torch.float\n",
    "                                           ))\n",
    "\n",
    "    # Forward method to define the computation in the model\n",
    "    def forward(self, x: torch.Tensor) -> torch.Tensor:\n",
    "        return self.weight * x + self.bias"
   ]
  },
  {
   "cell_type": "markdown",
   "id": "d3afebab",
   "metadata": {},
   "source": [
    "### PyTorch model building essentials\n",
    "\n",
    "* `torch.nn` - contains all of the buidling blocks for neural networks\n",
    "* `torch.nn.Parameter` - what parameters should our model try and learn, often a PyTorch layer from torch.nn will set these for us\n",
    "* `torch.nn.Module` - base class for all neural network modules, if you subclass it, you should overwrite the forward() function\n",
    "* `torch.optim` - where the optimizers in PyTorch live, they will help with gradient descent\n",
    "* `def forward()` - All nn.Module subclasses require you to overwrite forward(), this method defines what happens in the forward computation\n",
    "\n"
   ]
  },
  {
   "cell_type": "markdown",
   "id": "22cf1fae",
   "metadata": {},
   "source": [
    "### Checking the contents of our PyTorch model\n",
    "\n",
    "Now that we've created a model, let's see what's inside...\n",
    "\n",
    "So we can check out model parameters or what's inside our model using `.parameters()`"
   ]
  },
  {
   "cell_type": "code",
   "execution_count": 47,
   "id": "f091897a",
   "metadata": {},
   "outputs": [
    {
     "data": {
      "text/plain": [
       "[Parameter containing:\n",
       " tensor([0.3367], requires_grad=True),\n",
       " Parameter containing:\n",
       " tensor([0.1288], requires_grad=True)]"
      ]
     },
     "execution_count": 47,
     "metadata": {},
     "output_type": "execute_result"
    }
   ],
   "source": [
    "# Create a random seed\n",
    "torch.manual_seed(RANDOM_SEED)\n",
    "\n",
    "# Create an instance of our model\n",
    "model0 = LinearRegressionModel()\n",
    "list(model0.parameters())"
   ]
  },
  {
   "cell_type": "code",
   "execution_count": 48,
   "id": "87b4c471",
   "metadata": {},
   "outputs": [
    {
     "data": {
      "text/plain": [
       "OrderedDict([('weight', tensor([0.3367])), ('bias', tensor([0.1288]))])"
      ]
     },
     "execution_count": 48,
     "metadata": {},
     "output_type": "execute_result"
    }
   ],
   "source": [
    "model0.state_dict()"
   ]
  },
  {
   "cell_type": "markdown",
   "id": "5d559a66",
   "metadata": {},
   "source": [
    "### Making predictions using `torch.inference_mode()`\n",
    "\n",
    "To check our model's predicitive power, let's see how well it predicts `y_test` based on `X-test`.\n",
    "\n",
    "When we pass data through our model, it's going to run it through the `forward()` method."
   ]
  },
  {
   "cell_type": "code",
   "execution_count": 49,
   "id": "2a1c2656",
   "metadata": {},
   "outputs": [
    {
     "data": {
      "image/png": "[encoded data removed]",
      "text/plain": [
       "<Figure size 640x480 with 1 Axes>"
      ]
     },
     "metadata": {},
     "output_type": "display_data"
    }
   ],
   "source": [
    "# Make predictions with model - Why inference_mode? Turns off gradient tracking and therefore way faster (very important on large datasets with large models!). \n",
    "\n",
    "with torch.inference_mode():\n",
    "    y_preds = model0(X_test)\n",
    "\n",
    "# You cna also do something similar with `torch.no_grad()`, however, `torch.inference_mode()` is preferred\n",
    "#  with torch.no_grad():\n",
    "#    y_preds = model0(X_test)\n",
    "\n",
    "plot_data(X_train, y_train, X_test, y_test, y_preds)"
   ]
  },
  {
   "cell_type": "markdown",
   "id": "04a41fcc",
   "metadata": {},
   "source": [
    "Randomly initialized network does not perform well."
   ]
  },
  {
   "cell_type": "markdown",
   "id": "cf99a8ec",
   "metadata": {},
   "source": [
    "## 3. Train model\n",
    "\n",
    "The whole idea of training is for a model to move from some unknown, possibly random, parameters to some known parameters. Or in other words, from a poor representation of the data to a better representation of the data.\n",
    "\n",
    "One way to measure how poor or how wrong your models predictions are is to use a loss function. Things we need to train:\n",
    "\n",
    "* **Loss function**: A function to measure how wrong our model's predictions are to the ideal outputs, lower is better.\n",
    "* **Optimizer**: Takes into account the loss of a model and adjusts the model's parameters. Inside the optimizer, we usually have to set two hyperparameters: `lr` (Learning rate), `params` (The parameters the model should optimize)\n",
    "\n",
    "And for PyTorch, we need:\n",
    "* A training loop\n",
    "* A testing loop"
   ]
  },
  {
   "cell_type": "code",
   "execution_count": 50,
   "id": "127da714",
   "metadata": {},
   "outputs": [],
   "source": [
    "# Setup a loss function\n",
    "\n",
    "loss_fn = nn.L1Loss()\n",
    "\n",
    "# Setup an optimizer\n",
    "optimizer = torch.optim.SGD(params=model0.parameters(),\n",
    "                            lr=0.01,)                            # lr = learning rate"
   ]
  },
  {
   "cell_type": "markdown",
   "id": "08f822f0",
   "metadata": {},
   "source": [
    "### Building a training loop (and a testing loop) in PyTorch\n",
    "\n",
    "A couple of things we need in a training loop:\n",
    "\n",
    "0. Loop through the data\n",
    "1. Forward pass (this involves data moving through our model's `forward()` function) to make predictions on data - also called forward propagation\n",
    "2. Calculate the loss (compare forward pass predictions to ground truth labels)\n",
    "3. Optimizer zero grad\n",
    "4. Loss backward - move backwards through the network to calculate the gradients of each of the parameters of our model with respect to the loss (**backpropagation**)\n",
    "5. Optimizer step - use the optimizer to adjust the parameters to try and improve the loss (**gradient descent**)"
   ]
  },
  {
   "cell_type": "code",
   "execution_count": 51,
   "id": "b512bbc6",
   "metadata": {},
   "outputs": [
    {
     "name": "stdout",
     "output_type": "stream",
     "text": [
      "Epoch: 0 | Loss: 0.31288135051727295 | Test loss: 0.48106518387794495\n",
      "Epoch: 10 | Loss: 0.1976713389158249 | Test loss: 0.3463551998138428\n",
      "Epoch: 20 | Loss: 0.08908725529909134 | Test loss: 0.2172965705394745\n",
      "Epoch: 30 | Loss: 0.053148530423641205 | Test loss: 0.14464019238948822\n",
      "Epoch: 40 | Loss: 0.04543796554207802 | Test loss: 0.11360953748226166\n",
      "Epoch: 50 | Loss: 0.04167863354086876 | Test loss: 0.09919948130846024\n",
      "Epoch: 60 | Loss: 0.03818932920694351 | Test loss: 0.08886633813381195\n",
      "Epoch: 70 | Loss: 0.03476089984178543 | Test loss: 0.0805937722325325\n",
      "Epoch: 80 | Loss: 0.03132382780313492 | Test loss: 0.07232122868299484\n",
      "Epoch: 90 | Loss: 0.027887403964996338 | Test loss: 0.06473556160926819\n",
      "Epoch: 100 | Loss: 0.024458955973386765 | Test loss: 0.056463055312633514\n",
      "Epoch: 110 | Loss: 0.021020209416747093 | Test loss: 0.04819049686193466\n",
      "Epoch: 120 | Loss: 0.01758546754717827 | Test loss: 0.04060482233762741\n",
      "Epoch: 130 | Loss: 0.014155390672385693 | Test loss: 0.03233228251338005\n",
      "Epoch: 140 | Loss: 0.010716589167714119 | Test loss: 0.024059753865003586\n",
      "Epoch: 150 | Loss: 0.0072835348546504974 | Test loss: 0.016474086791276932\n",
      "Epoch: 160 | Loss: 0.003851778106763959 | Test loss: 0.008201557211577892\n",
      "Epoch: 170 | Loss: 0.00893248151987791 | Test loss: 0.005023092031478882\n",
      "Epoch: 180 | Loss: 0.00893248151987791 | Test loss: 0.005023092031478882\n",
      "Epoch: 190 | Loss: 0.00893248151987791 | Test loss: 0.005023092031478882\n"
     ]
    }
   ],
   "source": [
    "# An epoch (hyperparameter) is one loop through the data\n",
    "epochs  = 200\n",
    "\n",
    "# Tracking experiments\n",
    "epoch_count = []\n",
    "loss_values = []\n",
    "test_loss_values = []\n",
    "\n",
    "# Step 0: Loop through the data\n",
    "for epoch in range(epochs):\n",
    "    model0.train()              # train mode in PyTorch sets all parameters that require gradients to require gradients\n",
    "\n",
    "    # Step 1: Forward pass\n",
    "    y_pred = model0(X_train)\n",
    "\n",
    "    # Step 2: Calculate the loss\n",
    "    loss = loss_fn(y_pred, y_train)\n",
    "    # print(f\"Loss: {loss}\")\n",
    "\n",
    "    # Step 3: Optimizer zero grad\n",
    "    optimizer.zero_grad()   # Reset the gradients of all optimized torch.Tensors to zero\n",
    "\n",
    "    # Step 4: Perform backpropagation on the loss with respect to the model's parameters\n",
    "    loss.backward()         # Computes the gradients of the loss function wrt. all the parameters\n",
    "\n",
    "    # Step 5: Step the optimizer (perform gradient descent)\n",
    "    optimizer.step()        # by default how the optimizer changes will accumulate through the loop, so we have to zero them above in step 3 for the next iteration of the loop\n",
    "\n",
    "    # Testing\n",
    "    model0.eval()           # turns off different settings in the model not needed for evaluation/testing, for example, dropout layers are turned off.\n",
    "    with torch.inference_mode():        # turns off gradient tracking (torch.inference_mode is torch.no_grad on steroids)\n",
    "        # Forward pass\n",
    "        test_pred = model0(X_test)\n",
    "        # Calculate loss\n",
    "        test_loss = loss_fn(test_pred, y_test)\n",
    "        \n",
    "    if epoch % 10 == 0:\n",
    "        epoch_count.append(epoch)\n",
    "        loss_values.append(loss)\n",
    "        test_loss_values.append(test_loss)\n",
    "        print(f\"Epoch: {epoch} | Loss: {loss} | Test loss: {test_loss}\")"
   ]
  },
  {
   "cell_type": "code",
   "execution_count": 60,
   "id": "d6b9f9d8",
   "metadata": {},
   "outputs": [
    {
     "data": {
      "image/png": "[encoded data removed]",
      "text/plain": [
       "<Figure size 640x480 with 1 Axes>"
      ]
     },
     "metadata": {},
     "output_type": "display_data"
    }
   ],
   "source": [
    "plt.plot(epoch_count, test_loss_values, label=\"Test loss\")\n",
    "plt.plot(epoch_count, torch.tensor(loss_values).numpy(), label=\"Train loss\")\n",
    "plt.xlabel(\"Epoch\")\n",
    "plt.ylabel(\"Loss\")\n",
    "plt.title(\"Train and test loss curve\")\n",
    "plt.legend()\n",
    "plt.tight_layout()"
   ]
  },
  {
   "cell_type": "markdown",
   "id": "69c1fcf0",
   "metadata": {},
   "source": [
    "Very close to the actual values"
   ]
  },
  {
   "cell_type": "code",
   "execution_count": 52,
   "id": "8eab914f",
   "metadata": {},
   "outputs": [
    {
     "data": {
      "image/png": "[encoded data removed]",
      "text/plain": [
       "<Figure size 640x480 with 1 Axes>"
      ]
     },
     "metadata": {},
     "output_type": "display_data"
    }
   ],
   "source": [
    "with torch.inference_mode():\n",
    "    y_preds_new = model0(X_test)\n",
    "\n",
    "plot_data(X_train, y_train, X_test, y_test, y_preds_new)"
   ]
  },
  {
   "cell_type": "code",
   "execution_count": 61,
   "id": "12aac205",
   "metadata": {},
   "outputs": [
    {
     "data": {
      "text/plain": [
       "{1: 'data (prepare and load)',\n",
       " 2: 'build model',\n",
       " 3: 'fitting the model to data (training)',\n",
       " 4: 'making predictions and evaluating (inference)',\n",
       " 5: 'Safe and load a model',\n",
       " 6: 'Putting it all together'}"
      ]
     },
     "execution_count": 61,
     "metadata": {},
     "output_type": "execute_result"
    }
   ],
   "source": [
    "what_were_covering"
   ]
  },
  {
   "cell_type": "markdown",
   "id": "b2204acc",
   "metadata": {},
   "source": [
    "## 4. Saving a model in PyTorch\n",
    "\n",
    "There are three main methods you should know about for saving and laoding models in PyTorch.\n",
    "\n",
    "1. `torch.save()` - allows you to save a PyTorch obeject in Python's pickle format\n",
    "2. `torch.load()` - allows you to load a saved PyTorch object\n",
    "3. `torch.nn.Module.load_state_dict()` - allows you to load a model's saved state dictionary\n",
    "\n",
    "What is a `state_dict`? - In PyTorch, the learnable parameters of an torch.nn.Module model are contained in the model's parameters. A state_dict is simply a Python dictionary object that maps each layer to its parameter tensor.\n",
    "\n",
    "A common PyTorch convention is to save moels using either a `.pt` ot `.pth` file extension."
   ]
  },
  {
   "cell_type": "code",
   "execution_count": 66,
   "id": "557f5360",
   "metadata": {},
   "outputs": [
    {
     "name": "stdout",
     "output_type": "stream",
     "text": [
      "Saving the model to: models/01_pytorch_workflow_model0.pt\n"
     ]
    }
   ],
   "source": [
    "# Saving our PyTorch model\n",
    "\n",
    "from pathlib import Path\n",
    "\n",
    "# 1. Create models directory\n",
    "MODEL_PATH = Path(\"models\")\n",
    "MODEL_PATH.mkdir(parents=True, exist_ok=True)\n",
    "\n",
    "# 2. Create model save path\n",
    "MODEL_NAME = '01_pytorch_workflow_model0.pt'\n",
    "MODEL_SAVE_PATH = MODEL_PATH / MODEL_NAME\n",
    "\n",
    "# 3. Save the model state dict\n",
    "print(f\"Saving the model to: {MODEL_SAVE_PATH}\")\n",
    "torch.save(obj=model0.state_dict(), \n",
    "           f=MODEL_SAVE_PATH)"
   ]
  },
  {
   "cell_type": "markdown",
   "id": "ab042f55",
   "metadata": {},
   "source": [
    "## 5. Loading a PyTorch model\n",
    "\n",
    "Since we saved our model's `state_dict()` rather than the entire model, we'll create a new instance of our model class and load the saved state_dict into that."
   ]
  },
  {
   "cell_type": "code",
   "execution_count": null,
   "id": "7b780ed9",
   "metadata": {},
   "outputs": [
    {
     "data": {
      "text/plain": [
       "<All keys matched successfully>"
      ]
     },
     "execution_count": 70,
     "metadata": {},
     "output_type": "execute_result"
    }
   ],
   "source": [
    "# To load in a saved state_dict we have to instanciate a new instance of our model class\n",
    "loaded_model0 = LinearRegressionModel()\n",
    "\n",
    "# Load the saved state_dict of model0 and update the new instance with updated parameters\n",
    "loaded_model0.load_state_dict(torch.load(f=MODEL_SAVE_PATH))"
   ]
  },
  {
   "cell_type": "code",
   "execution_count": 71,
   "id": "adb9e5b4",
   "metadata": {},
   "outputs": [
    {
     "data": {
      "text/plain": [
       "OrderedDict([('weight', tensor([0.6990])), ('bias', tensor([0.3093]))])"
      ]
     },
     "execution_count": 71,
     "metadata": {},
     "output_type": "execute_result"
    }
   ],
   "source": [
    "loaded_model0.state_dict()"
   ]
  },
  {
   "cell_type": "code",
   "execution_count": 72,
   "id": "d3922111",
   "metadata": {},
   "outputs": [
    {
     "data": {
      "text/plain": [
       "tensor([[True],\n",
       "        [True],\n",
       "        [True],\n",
       "        [True],\n",
       "        [True],\n",
       "        [True],\n",
       "        [True],\n",
       "        [True],\n",
       "        [True],\n",
       "        [True]])"
      ]
     },
     "execution_count": 72,
     "metadata": {},
     "output_type": "execute_result"
    }
   ],
   "source": [
    "# Make some predictions with our loaded model\n",
    "loaded_model0.eval()\n",
    "with torch.inference_mode():\n",
    "    loaded_model_preds = loaded_model0(X_test)\n",
    "\n",
    "loaded_model_preds == y_preds_new"
   ]
  },
  {
   "cell_type": "markdown",
   "id": "e3e0827c",
   "metadata": {},
   "source": [
    "## 6. Putting it all together\n",
    "\n",
    "Let's go to the steps above and see it all in one place."
   ]
  },
  {
   "cell_type": "code",
   "execution_count": 83,
   "id": "e493ffb3",
   "metadata": {},
   "outputs": [
    {
     "name": "stdout",
     "output_type": "stream",
     "text": [
      "Using mps device\n"
     ]
    }
   ],
   "source": [
    "device = torch.accelerator.current_accelerator().type if torch.accelerator.is_available() else \"cpu\"\n",
    "print(f\"Using {device} device\")"
   ]
  },
  {
   "cell_type": "markdown",
   "id": "e4f9e55b",
   "metadata": {},
   "source": [
    "### 6.1 Data"
   ]
  },
  {
   "cell_type": "code",
   "execution_count": 77,
   "id": "bd9310f4",
   "metadata": {},
   "outputs": [],
   "source": [
    "# Create some data using the linear regression formula of y = weight * features + bias\n",
    "\n",
    "weight = 0.7\n",
    "bias = 0.3\n",
    "\n",
    "# Create range values\n",
    "start = 0\n",
    "end = 1\n",
    "step = 0.02\n",
    "\n",
    "# Create X and y (features and labels)\n",
    "X = torch.arange(start, end, step).unsqueeze(dim=1)\n",
    "y = weight * X + bias"
   ]
  },
  {
   "cell_type": "code",
   "execution_count": 78,
   "id": "4d216e2d",
   "metadata": {},
   "outputs": [
    {
     "data": {
      "text/plain": [
       "(40, 40, 10, 10)"
      ]
     },
     "execution_count": 78,
     "metadata": {},
     "output_type": "execute_result"
    }
   ],
   "source": [
    "# split data\n",
    "train_split = int(0.8 * len(X))\n",
    "X_train, y_train = X[:train_split], y[:train_split]\n",
    "X_test, y_test = X[train_split:], y[train_split:]\n",
    "len(X_train), len(y_train), len(X_test), len(y_test)"
   ]
  },
  {
   "cell_type": "code",
   "execution_count": 79,
   "id": "4b929df0",
   "metadata": {},
   "outputs": [
    {
     "data": {
      "image/png": "[encoded data removed]",
      "text/plain": [
       "<Figure size 640x480 with 1 Axes>"
      ]
     },
     "metadata": {},
     "output_type": "display_data"
    }
   ],
   "source": [
    "# plot the data\n",
    "plot_data(X_train,y_train,X_test,y_test)"
   ]
  },
  {
   "cell_type": "markdown",
   "id": "f363ae63",
   "metadata": {},
   "source": [
    "## 6.2 Building a PyTorch Linear Model"
   ]
  },
  {
   "cell_type": "code",
   "execution_count": null,
   "id": "2118827a",
   "metadata": {},
   "outputs": [
    {
     "data": {
      "text/plain": [
       "OrderedDict([('linear_layer.weight', tensor([[0.7645]])),\n",
       "             ('linear_layer.bias', tensor([0.8300]))])"
      ]
     },
     "execution_count": 82,
     "metadata": {},
     "output_type": "execute_result"
    }
   ],
   "source": [
    "class LinearRegressionModelV2(nn.Module):\n",
    "    def __init__(self):\n",
    "        super().__init__()\n",
    "        # Use nn.Linear() for creating the model parameters\n",
    "        self.linear_layer = nn.Linear(in_features=1,\n",
    "                                      out_features=1)\n",
    "\n",
    "    def forward(self,x: torch.Tensor) -> torch.Tensor:\n",
    "        return self.linear_layer(x)\n",
    "    \n",
    "torch.manual_seed(seed=RANDOM_SEED)\n",
    "model1 = LinearRegressionModelV2()\n",
    "model1.state_dict()"
   ]
  },
  {
   "cell_type": "code",
   "execution_count": 87,
   "id": "dde62d90",
   "metadata": {},
   "outputs": [
    {
     "data": {
      "text/plain": [
       "LinearRegressionModelV2(\n",
       "  (linear_layer): Linear(in_features=1, out_features=1, bias=True)\n",
       ")"
      ]
     },
     "execution_count": 87,
     "metadata": {},
     "output_type": "execute_result"
    }
   ],
   "source": [
    "model1.to(device)"
   ]
  },
  {
   "cell_type": "markdown",
   "id": "c56a17d7",
   "metadata": {},
   "source": [
    "### 6.3 Training our Model"
   ]
  },
  {
   "cell_type": "code",
   "execution_count": 89,
   "id": "f8c75d5a",
   "metadata": {},
   "outputs": [
    {
     "name": "stdout",
     "output_type": "stream",
     "text": [
      "Epoch: 0 | Loss: 0.006215682718902826 | Test loss: 0.014086711220443249\n",
      "Epoch: 10 | Loss: 0.002787243574857712 | Test loss: 0.005814170930534601\n",
      "Epoch: 20 | Loss: 0.0012645088136196136 | Test loss: 0.013801807537674904\n",
      "Epoch: 30 | Loss: 0.0012645088136196136 | Test loss: 0.013801807537674904\n",
      "Epoch: 40 | Loss: 0.0012645088136196136 | Test loss: 0.013801807537674904\n",
      "Epoch: 50 | Loss: 0.0012645088136196136 | Test loss: 0.013801807537674904\n",
      "Epoch: 60 | Loss: 0.0012645088136196136 | Test loss: 0.013801807537674904\n",
      "Epoch: 70 | Loss: 0.0012645088136196136 | Test loss: 0.013801807537674904\n",
      "Epoch: 80 | Loss: 0.0012645088136196136 | Test loss: 0.013801807537674904\n",
      "Epoch: 90 | Loss: 0.0012645088136196136 | Test loss: 0.013801807537674904\n"
     ]
    }
   ],
   "source": [
    "# Set the model to use our device\n",
    "loss_fn = nn.L1Loss()\n",
    "optimizer = torch.optim.SGD(params=model1.parameters(), lr=0.01)\n",
    "\n",
    "torch.manual_seed(seed=RANDOM_SEED)\n",
    "\n",
    "epochs = 100\n",
    "\n",
    "X_train = X_train.to(device)\n",
    "y_train = y_train.to(device)\n",
    "X_test = X_test.to(device)\n",
    "y_test = y_test.to(device)\n",
    "\n",
    "for epoch in range(epochs):\n",
    "    model1.train()\n",
    "\n",
    "    # 1. Forward pass\n",
    "    y_pred = model1(X_train)\n",
    "\n",
    "    # 2. Calculate the loss\n",
    "    loss = loss_fn(y_pred, y_train)\n",
    "    \n",
    "    # 3. Optimizer zero grad\n",
    "    optimizer.zero_grad()\n",
    "\n",
    "    # 4. Backpropagation\n",
    "    loss.backward()\n",
    "\n",
    "    # 5. Optimizer step\n",
    "    optimizer.step()\n",
    "\n",
    "    # Testing\n",
    "    model1.eval()\n",
    "    with torch.inference_mode():\n",
    "        test_pred = model1(X_test)\n",
    "\n",
    "        test_loss = loss_fn(test_pred, y_test)\n",
    "    \n",
    "    if epoch % 10 == 0:\n",
    "        print(f\"Epoch: {epoch} | Loss: {loss} | Test loss: {test_loss}\")"
   ]
  },
  {
   "cell_type": "code",
   "execution_count": 90,
   "id": "37ea0fe9",
   "metadata": {},
   "outputs": [
    {
     "data": {
      "text/plain": [
       "OrderedDict([('linear_layer.weight', tensor([[0.6968]], device='mps:0')),\n",
       "             ('linear_layer.bias', tensor([0.3025], device='mps:0'))])"
      ]
     },
     "execution_count": 90,
     "metadata": {},
     "output_type": "execute_result"
    }
   ],
   "source": [
    "model1.state_dict()"
   ]
  },
  {
   "cell_type": "markdown",
   "id": "d5830e75",
   "metadata": {},
   "source": [
    "### 6.4 Making and evaluating predictions"
   ]
  },
  {
   "cell_type": "code",
   "execution_count": 94,
   "id": "d023f5bb",
   "metadata": {},
   "outputs": [
    {
     "data": {
      "image/png": "[encoded data removed]",
      "text/plain": [
       "<Figure size 640x480 with 1 Axes>"
      ]
     },
     "metadata": {},
     "output_type": "display_data"
    }
   ],
   "source": [
    "model1.eval()\n",
    "with torch.inference_mode():\n",
    "    y_preds = model1(X_test)\n",
    "\n",
    "plot_data(X_train.to(\"cpu\").numpy(),y_train.to(\"cpu\").numpy(),X_test.to(\"cpu\").numpy(),y_test.to(\"cpu\").numpy(),y_preds.to(\"cpu\").numpy())"
   ]
  },
  {
   "cell_type": "markdown",
   "id": "1fc46699",
   "metadata": {},
   "source": [
    "## Exercises"
   ]
  },
  {
   "cell_type": "code",
   "execution_count": 100,
   "id": "5be4f768",
   "metadata": {},
   "outputs": [
    {
     "name": "stdout",
     "output_type": "stream",
     "text": [
      "80 80 20 20\n"
     ]
    },
    {
     "data": {
      "image/png": "[encoded data removed]",
      "text/plain": [
       "<Figure size 640x480 with 1 Axes>"
      ]
     },
     "metadata": {},
     "output_type": "display_data"
    }
   ],
   "source": [
    "start = 0\n",
    "end = 1\n",
    "step = 0.01\n",
    "\n",
    "X = torch.arange(start=start, end=end, step=step).unsqueeze(dim=1)\n",
    "\n",
    "weight = 0.3\n",
    "bias = 0.9\n",
    "\n",
    "y = weight * X + bias\n",
    "\n",
    "train_split = int(0.8 * len(X))\n",
    "X_train = X[:train_split]\n",
    "y_train = y[:train_split]\n",
    "X_test = X[train_split:]\n",
    "y_test = y[train_split:]\n",
    "\n",
    "print(len(X_train),len(y_train),len(X_test),len(y_test))\n",
    "plot_data(X_train, y_train, X_test, y_test)"
   ]
  },
  {
   "cell_type": "code",
   "execution_count": null,
   "id": "ed2edae6",
   "metadata": {},
   "outputs": [
    {
     "data": {
      "text/plain": [
       "OrderedDict([('weight', tensor([0.3367])), ('bias', tensor([0.1288]))])"
      ]
     },
     "execution_count": 102,
     "metadata": {},
     "output_type": "execute_result"
    }
   ],
   "source": [
    "class ExerciseModel(nn.Module):\n",
    "    def __init__(self):\n",
    "        super().__init__()\n",
    "        self.weight = nn.Parameter(torch.randn(1,requires_grad=True,dtype=torch.float))\n",
    "        self.bias = nn.Parameter(torch.randn(1,requires_grad=True,dtype=torch.float))\n",
    "\n",
    "    def forward(self,x):\n",
    "        return self.weight * x + self.bias\n",
    "    \n",
    "\n",
    "model2 = ExerciseModel()\n",
    "model2.state_dict()"
   ]
  },
  {
   "cell_type": "code",
   "execution_count": 105,
   "id": "32838da8",
   "metadata": {},
   "outputs": [
    {
     "data": {
      "text/plain": [
       "device(type='mps', index=0)"
      ]
     },
     "execution_count": 105,
     "metadata": {},
     "output_type": "execute_result"
    }
   ],
   "source": [
    "model2.to(device)\n",
    "next(model2.parameters()).device"
   ]
  },
  {
   "cell_type": "code",
   "execution_count": 106,
   "id": "f6c70ffc",
   "metadata": {},
   "outputs": [],
   "source": [
    "loss_fn = torch.nn.L1Loss()\n",
    "optimizer = torch.optim.SGD(params=model2.parameters(), lr=0.01)"
   ]
  },
  {
   "cell_type": "code",
   "execution_count": 107,
   "id": "29ff3feb",
   "metadata": {},
   "outputs": [
    {
     "name": "stdout",
     "output_type": "stream",
     "text": [
      "Epoch: 0 | Train loss: 0.757 | Test loss: 0.725\n",
      "Epoch: 20 | Train loss: 0.525 | Test loss: 0.454\n",
      "Epoch: 40 | Train loss: 0.294 | Test loss: 0.183\n",
      "Epoch: 60 | Train loss: 0.077 | Test loss: 0.073\n",
      "Epoch: 80 | Train loss: 0.053 | Test loss: 0.116\n",
      "Epoch: 100 | Train loss: 0.046 | Test loss: 0.105\n",
      "Epoch: 120 | Train loss: 0.039 | Test loss: 0.089\n",
      "Epoch: 140 | Train loss: 0.032 | Test loss: 0.074\n",
      "Epoch: 160 | Train loss: 0.025 | Test loss: 0.058\n",
      "Epoch: 180 | Train loss: 0.018 | Test loss: 0.042\n",
      "Epoch: 200 | Train loss: 0.011 | Test loss: 0.026\n",
      "Epoch: 220 | Train loss: 0.004 | Test loss: 0.009\n",
      "Epoch: 240 | Train loss: 0.004 | Test loss: 0.006\n",
      "Epoch: 260 | Train loss: 0.004 | Test loss: 0.006\n",
      "Epoch: 280 | Train loss: 0.004 | Test loss: 0.006\n"
     ]
    }
   ],
   "source": [
    "epochs = 300\n",
    "\n",
    "X_train = X_train.to(device)\n",
    "X_test = X_test.to(device)\n",
    "y_train = y_train.to(device)\n",
    "y_test = y_test.to(device)\n",
    "\n",
    "for epoch in range(epochs):\n",
    "    model2.train()\n",
    "\n",
    "    y_pred = model2(X_train)\n",
    "    loss = loss_fn(y_pred, y_train)\n",
    "    optimizer.zero_grad()\n",
    "    loss.backward()\n",
    "    optimizer.step()\n",
    "\n",
    "    if epoch % 20 == 0:\n",
    "        model2.eval()\n",
    "        with torch.inference_mode():\n",
    "            test_pred = model2(X_test)\n",
    "            test_loss = loss_fn(test_pred, y_test)\n",
    "            print(f\"Epoch: {epoch} | Train loss: {loss:.3f} | Test loss: {test_loss:.3f}\")"
   ]
  },
  {
   "cell_type": "code",
   "execution_count": 110,
   "id": "26fb2d56",
   "metadata": {},
   "outputs": [
    {
     "data": {
      "image/png": "[encoded data removed]",
      "text/plain": [
       "<Figure size 640x480 with 1 Axes>"
      ]
     },
     "metadata": {},
     "output_type": "display_data"
    }
   ],
   "source": [
    "with torch.inference_mode():\n",
    "    predictions = model2(X_test)\n",
    "\n",
    "plot_data(X_train.to(\"cpu\").numpy(),y_train.to(\"cpu\").numpy(),X_test.to(\"cpu\").numpy(),y_test.to(\"cpu\").numpy(), predictions.to(\"cpu\").numpy())"
   ]
  }
 ],
 "metadata": {
  "kernelspec": {
   "display_name": ".venv",
   "language": "python",
   "name": "python3"
  },
  "language_info": {
   "codemirror_mode": {
    "name": "ipython",
    "version": 3
   },
   "file_extension": ".py",
   "mimetype": "text/x-python",
   "name": "python",
   "nbconvert_exporter": "python",
   "pygments_lexer": "ipython3",
   "version": "3.9.6"
  }
 },
 "nbformat": 4,
 "nbformat_minor": 5
}
